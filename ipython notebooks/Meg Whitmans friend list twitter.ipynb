{
 "cells": [
  {
   "cell_type": "code",
   "execution_count": null,
   "metadata": {
    "collapsed": false
   },
   "outputs": [],
   "source": [
    "## Print the list of people Meg Whitman follows\n",
    "\n",
    "import time\n",
    "import tweepy\n",
    "\n",
    "CONSUMER_KEY = '---'\n",
    "CONSUMER_SECRET = '---'\n",
    "ACCESS_KEY = '---'\n",
    "ACCESS_SECRET = '---'\n",
    "auth = tweepy.OAuthHandler(CONSUMER_KEY, CONSUMER_SECRET)\n",
    "auth.set_access_token(ACCESS_KEY, ACCESS_SECRET)\n",
    "api = tweepy.API(auth)\n",
    "\n",
    "ids = []\n",
    "for page in tweepy.Cursor(api.friends, screen_name=\"MegWhitman\").pages():\n",
    "    ids.extend(page)\n",
    "    time.sleep(60)\n",
    "\n",
    "print(\"Number of friends of Meg Whitman are\" + len(ids))"
   ]
  },
  {
   "cell_type": "code",
   "execution_count": 44,
   "metadata": {
    "collapsed": false
   },
   "outputs": [],
   "source": [
    "## Now we have the information in the list ids that contains objects of class 'user'\n",
    "# We will store user information in a csv file\n",
    "\n",
    "import string\n",
    "import csv\n",
    "\n",
    "outfn = \"Meg_whitman_friends.csv\" \n",
    "\n",
    "for entry in ids:\n",
    "    user_id = entry.id\n",
    "    screen_name = entry.screen_name\n",
    "    name = entry.name\n",
    "    created_at = entry.created_at\n",
    "    url = entry.url\n",
    "    followers_count = entry.followers_count\n",
    "    friends_count = entry.friends_count\n",
    "    statuses_count = entry.statuses_count\n",
    "    favourites_count = entry.favourites_count\n",
    "    listed_count = entry.listed_count\n",
    "    description = entry.description\n",
    "    location = entry.location\n",
    "    csv_feed = [user_id, screen_name,name,created_at,url,followers_count, friends_count, listed_count,location, statuses_count]\n",
    " \n",
    "    with open(\"Meg_whitman_friends.csv\", \"a\", encoding = 'utf-8') as output:\n",
    "        outputwriter = csv.writer(output, dialect = 'excel', lineterminator='\\n')\n",
    "        outputwriter.writerow(csv_feed)\n"
   ]
  },
  {
   "cell_type": "code",
   "execution_count": 50,
   "metadata": {
    "collapsed": false
   },
   "outputs": [
    {
     "name": "stdout",
     "output_type": "stream",
     "text": [
      "14180249\n"
     ]
    }
   ],
   "source": [
    "## Check for each user, if A follows B (double loop). If yes, write to file\n",
    "import pandas as pd\n",
    "\n",
    "df = pd.rea\n",
    "\n",
    "#api.exists_friendship(user1,user2)\n",
    "\n",
    "# Unfortunately, the exists_friendship function has been truncated. \n",
    "# We need to extract friend list of each of the users and then check for mutual friendship to build an ego network\n",
    "\n"
   ]
  }
 ],
 "metadata": {
  "kernelspec": {
   "display_name": "Python 3",
   "language": "python",
   "name": "python3"
  },
  "language_info": {
   "codemirror_mode": {
    "name": "ipython",
    "version": 3
   },
   "file_extension": ".py",
   "mimetype": "text/x-python",
   "name": "python",
   "nbconvert_exporter": "python",
   "pygments_lexer": "ipython3",
   "version": "3.5.1"
  }
 },
 "nbformat": 4,
 "nbformat_minor": 0
}
