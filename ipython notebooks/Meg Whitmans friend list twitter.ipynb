{
 "cells": [
  {
   "cell_type": "code",
   "execution_count": 12,
   "metadata": {
    "collapsed": false
   },
   "outputs": [
    {
     "name": "stdout",
     "output_type": "stream",
     "text": [
      "299\n"
     ]
    }
   ],
   "source": [
    "## Print the list of people Meg Whitman follows\n",
    "\n",
    "import time\n",
    "import tweepy\n",
    "\n",
    "CONSUMER_KEY = '8A7nwmgQAavcjxdKCGoS4mf9y'\n",
    "CONSUMER_SECRET = 'ceYw12w6m1wu2gFhly4ypQCS8CynsN0OHdsknZ9YyuscV1Iusg'\n",
    "ACCESS_KEY = '3023066384-wq6DR2XQ3BIK1mNkQ1Agmh4sSkiEmSU50OlKjc7'\n",
    "ACCESS_SECRET = 'wEfvqQE1JhWbQ2IQgyhyF9EWJTbXu1YLdusOFnPGSmJci'\n",
    "auth = tweepy.OAuthHandler(CONSUMER_KEY, CONSUMER_SECRET)\n",
    "auth.set_access_token(ACCESS_KEY, ACCESS_SECRET)\n",
    "api = tweepy.API(auth)\n",
    "\n",
    "ids = []\n",
    "for page in tweepy.Cursor(api.friends, screen_name=\"MegWhitman\").pages():\n",
    "    ids.extend(page)\n",
    "    time.sleep(60)\n",
    "\n",
    "print(len(ids))"
   ]
  },
  {
   "cell_type": "code",
   "execution_count": 46,
   "metadata": {
    "collapsed": false
   },
   "outputs": [],
   "source": [
    "#"
   ]
  },
  {
   "cell_type": "code",
   "execution_count": 45,
   "metadata": {
    "collapsed": false
   },
   "outputs": [],
   "source": [
    "#print(ids[1])"
   ]
  },
  {
   "cell_type": "code",
   "execution_count": 44,
   "metadata": {
    "collapsed": false
   },
   "outputs": [],
   "source": [
    "import string\n",
    "import csv\n",
    "#NAME OUR OUTPUT FILE - %i WILL BE REPLACED BY CURRENT MONTH, DAY, AND YEAR\n",
    "outfn = \"Meg_whitman_friends.csv\" \n",
    "\n",
    "for entry in ids:\n",
    "    user_id = entry.id\n",
    "    screen_name = entry.screen_name\n",
    "    name = entry.name\n",
    "    created_at = entry.created_at\n",
    "    url = entry.url\n",
    "    followers_count = entry.followers_count\n",
    "    friends_count = entry.friends_count\n",
    "    statuses_count = entry.statuses_count\n",
    "    favourites_count = entry.favourites_count\n",
    "    listed_count = entry.listed_count\n",
    "    description = entry.description\n",
    "    location = entry.location\n",
    "    csv_feed = [user_id, screen_name,name,created_at,url,followers_count, friends_count, listed_count,location, statuses_count]\n",
    " \n",
    "    with open(\"Meg_whitman_friends.csv\", \"a\", encoding = 'utf-8') as output:\n",
    "        outputwriter = csv.writer(output, dialect = 'excel', lineterminator='\\n')\n",
    "        outputwriter.writerow(csv_feed)\n"
   ]
  },
  {
   "cell_type": "code",
   "execution_count": 47,
   "metadata": {
    "collapsed": false
   },
   "outputs": [],
   "source": [
    "#"
   ]
  },
  {
   "cell_type": "code",
   "execution_count": 42,
   "metadata": {
    "collapsed": false
   },
   "outputs": [],
   "source": [
    "for i in ids:\n",
    "    with open(\"friendlist_ids.csv\", \"a\", encoding = 'utf-8') as output:\n",
    "        outputwriter = csv.writer(output, dialect = 'excel', lineterminator='\\n')\n",
    "        outputwriter.writerow([i.id])"
   ]
  },
  {
   "cell_type": "code",
   "execution_count": 50,
   "metadata": {
    "collapsed": false
   },
   "outputs": [
    {
     "name": "stdout",
     "output_type": "stream",
     "text": [
      "14180249\n"
     ]
    }
   ],
   "source": [
    "## Check for each user, if A follows B (double loop). If yes, write to file\n",
    "import pandas as pd\n",
    "\n",
    "\n",
    "#api.exists_friendship(user1,user2)"
   ]
  }
 ],
 "metadata": {
  "kernelspec": {
   "display_name": "Python 3",
   "language": "python",
   "name": "python3"
  },
  "language_info": {
   "codemirror_mode": {
    "name": "ipython",
    "version": 3
   },
   "file_extension": ".py",
   "mimetype": "text/x-python",
   "name": "python",
   "nbconvert_exporter": "python",
   "pygments_lexer": "ipython3",
   "version": "3.5.1"
  }
 },
 "nbformat": 4,
 "nbformat_minor": 0
}
